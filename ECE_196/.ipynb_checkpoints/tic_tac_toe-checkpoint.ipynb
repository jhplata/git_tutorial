{
 "cells": [
  {
   "cell_type": "markdown",
   "metadata": {},
   "source": [
    "<h1>Project Description</h1><br>\n",
    "The following project attempts to replicate the game to Tic-Tac-Toe. This game is playable by two player and the game ends when one of the player has won, or if the game ends in a draw. The board is printed out after each move for visualization purposes."
   ]
  },
  {
   "cell_type": "markdown",
   "metadata": {},
   "source": [
    "<h1>Import the Necessary Files</h1>"
   ]
  },
  {
   "cell_type": "code",
   "execution_count": 10,
   "metadata": {
    "collapsed": true
   },
   "outputs": [],
   "source": [
    "import sys\n",
    "import numpy as np\n",
    "from IPython.display import clear_output"
   ]
  },
  {
   "cell_type": "markdown",
   "metadata": {},
   "source": [
    "<h1>Helper Function</h1>"
   ]
  },
  {
   "cell_type": "markdown",
   "metadata": {},
   "source": [
    "<h2>print_board()</h2><br>\n",
    "This following function prints the tic-tac-toe board in a nice format. It should be called each time the tic-tac-toe board is updated. It should take in the current state of the tic-tac-toe board as parameter and print it in the appropriate format.<br><br>\n",
    "<b>Note:</b> player 1 is marked with <i>x</i> and player 2 is marked with <i>o</i> and any empty space is marked as <i>-</i> (the dash character)."
   ]
  },
  {
   "cell_type": "code",
   "execution_count": 27,
   "metadata": {},
   "outputs": [
    {
     "name": "stdout",
     "output_type": "stream",
     "text": [
      "o - - \n",
      "o - - \n",
      "o o o \n"
     ]
    }
   ],
   "source": [
    "def print_board(board):\n",
    "    '''\n",
    "        This function prints the current state of the game board\n",
    "        board is a 3x3 numpy array\n",
    "        print x for 0\n",
    "        print o for 1\n",
    "        print - for default\n",
    "    '''\n",
    "    \n",
    "    for i in board:\n",
    "        for j in i:\n",
    "            if j == 0:\n",
    "                print('x',end=' ')\n",
    "            elif j == 1:\n",
    "                print('o',end=' ')\n",
    "            else:\n",
    "                print('-',end=' ')\n",
    "        print('')\n",
    "    \n",
    "    "
   ]
  },
  {
   "cell_type": "markdown",
   "metadata": {},
   "source": [
    "<h2> check_win()</h2><br>\n",
    "This function checks the current state of the board to determine if any player is won the game or not. It should take in the current state of the tic-tac-toe board as parameter and should be called after every move. This function should return 0 if player 1 won the game, and return 1 if player 2 won the game and -1 if none of the player won the game.<br><br>\n",
    "\n",
    "<b>Note:</b> Don't forget to check both of the diagonals, alongside the horizontal and vertical winning position."
   ]
  },
  {
   "cell_type": "code",
   "execution_count": 35,
   "metadata": {},
   "outputs": [
    {
     "name": "stdout",
     "output_type": "stream",
     "text": [
      "-1\n"
     ]
    }
   ],
   "source": [
    "def check_win(board):\n",
    "    '''\n",
    "        This function checks if the board has winning position\n",
    "        Return values:\n",
    "            - 0: if player 1 won the game\n",
    "            - 1: if player 2 won the game\n",
    "            - -1: if there's no winning move\n",
    "    ''' \n",
    "    res = -1\n",
    "    \n",
    "    # check for horizontal win\n",
    "    for i in board:\n",
    "        if (sum(i) == 3):\n",
    "            res = 1\n",
    "        elif(sum(i)==0):\n",
    "            res = 0\n",
    "    \n",
    "    # check for vertical win\n",
    "    for n in range(3):\n",
    "        s = 0\n",
    "        for j in range(0,3):\n",
    "            for i in board:\n",
    "                s += i[j]\n",
    "        if (s == 3):\n",
    "            res = 1\n",
    "        elif(s == 0):\n",
    "            res = 0\n",
    "    \n",
    "    # check for diagonal win\n",
    "    s = 0\n",
    "    for i in range(0,3):\n",
    "        s += board[i,i]\n",
    "    if (s == 3):\n",
    "        res = 1\n",
    "    elif(s == 0):\n",
    "        res = 0\n",
    "            \n",
    "    # check for sub-diagonal win\n",
    "    s = 0\n",
    "    j = 2\n",
    "    for i in range(0,3): \n",
    "        s += board[i,j]\n",
    "        j -= 1\n",
    "    if (s == 3):\n",
    "        res = 1\n",
    "    elif(s == 0):\n",
    "        res = 0\n",
    "    \n",
    "    return res\n",
    "\n",
    "board = np.array([[1, sys.float_info.epsilon,sys.float_info.epsilon],  [sys.float_info.epsilon, sys.float_info.epsilon, sys.float_info.epsilon], [sys.float_info.epsilon, 1, 1]])\n",
    "print(check_win(board))"
   ]
  },
  {
   "cell_type": "markdown",
   "metadata": {},
   "source": [
    "<h1>check_draw()</h1><br>\n",
    "This function check to see if the current state of the board end the game in a draw. It should take in the current state of the tic-tac-toe boars as a parameter and should be called after every move. This function should return 1 if the current state of the board ends the game in a draw and 0 if the game doesn't end in a draw."
   ]
  },
  {
   "cell_type": "code",
   "execution_count": 8,
   "metadata": {},
   "outputs": [
    {
     "ename": "SyntaxError",
     "evalue": "EOF while scanning triple-quoted string literal (<ipython-input-8-29e181a5a27c>, line 5)",
     "output_type": "error",
     "traceback": [
      "\u001b[0;36m  File \u001b[0;32m\"<ipython-input-8-29e181a5a27c>\"\u001b[0;36m, line \u001b[0;32m5\u001b[0m\n\u001b[0;31m    \u001b[0m\n\u001b[0m    ^\u001b[0m\n\u001b[0;31mSyntaxError\u001b[0m\u001b[0;31m:\u001b[0m EOF while scanning triple-quoted string literal\n"
     ]
    }
   ],
   "source": [
    "def check_draw(board):\n",
    "    '''\n",
    "        This funcion check if the game if ending in a draw or not\n",
    "        Assumes already checks win\n",
    "    '''\n",
    "    res = 1\n",
    "    for i in board:\n",
    "        for j in i:\n",
    "            if (j != 0 || j != 1):\n",
    "                res = 0\n",
    "                break\n",
    "    \n",
    "    return res"
   ]
  },
  {
   "cell_type": "markdown",
   "metadata": {},
   "source": [
    "<h1>insert_move()</h1><br>\n",
    "This funciton updates the tic-tac-board with the most recent move. It should take in the current state of the tic-tac-toe board as a parameter, as well as the move made by the most player, and the player that made the move as a parameter. It returns 1 if the move was a valid move, and -1 for invalid move. After an invalid move, that corresponding player should be asked to make another move."
   ]
  },
  {
   "cell_type": "code",
   "execution_count": 9,
   "metadata": {
    "collapsed": true
   },
   "outputs": [],
   "source": [
    "def insert_move(board, move, player):\n",
    "    '''\n",
    "        Insert move into the board\n",
    "        Input:\n",
    "            - board: the game board\n",
    "            - move: the current move\n",
    "            - Player: 0 if player 1, 1 if player 2\n",
    "        Return:\n",
    "            - -1: if invalid move\n",
    "            - 1: if valid move\n",
    "    '''\n",
    "    res = 1\n",
    "    \n",
    "    i = int((move-1)/3)\n",
    "    j = (move-1)%3\n",
    "    if (board[i,j] == 1 || board[i,j] == 0)\n",
    "        res = -1\n",
    "    else\n",
    "        board[i,j] = player\n",
    "    \n",
    "    return res\n"
   ]
  },
  {
   "cell_type": "markdown",
   "metadata": {},
   "source": [
    "The following is the piece of logic that controls the flow of the game."
   ]
  },
  {
   "cell_type": "code",
   "execution_count": 6,
   "metadata": {},
   "outputs": [
    {
     "ename": "NotImplementedError",
     "evalue": "",
     "output_type": "error",
     "traceback": [
      "\u001b[0;31m---------------------------------------------------------------------------\u001b[0m",
      "\u001b[0;31mNotImplementedError\u001b[0m                       Traceback (most recent call last)",
      "\u001b[0;32m<ipython-input-6-d198a59242f1>\u001b[0m in \u001b[0;36m<module>\u001b[0;34m\u001b[0m\n\u001b[1;32m      8\u001b[0m \u001b[0mcounter\u001b[0m \u001b[0;34m=\u001b[0m \u001b[0;36m0\u001b[0m\u001b[0;34m\u001b[0m\u001b[0;34m\u001b[0m\u001b[0m\n\u001b[1;32m      9\u001b[0m \u001b[0;31m# Implement the logic of the gameplay\u001b[0m\u001b[0;34m\u001b[0m\u001b[0;34m\u001b[0m\u001b[0;34m\u001b[0m\u001b[0m\n\u001b[0;32m---> 10\u001b[0;31m \u001b[0;32mwhile\u001b[0m \u001b[0mcheck_win\u001b[0m\u001b[0;34m(\u001b[0m\u001b[0mboard\u001b[0m\u001b[0;34m)\u001b[0m \u001b[0;34m==\u001b[0m \u001b[0;34m-\u001b[0m\u001b[0;36m1\u001b[0m \u001b[0;32mand\u001b[0m \u001b[0mcounter\u001b[0m \u001b[0;34m<\u001b[0m \u001b[0;36m9\u001b[0m\u001b[0;34m:\u001b[0m    \u001b[0;31m# continue playing the game as long as no one has won\u001b[0m\u001b[0;34m\u001b[0m\u001b[0;34m\u001b[0m\u001b[0m\n\u001b[0m\u001b[1;32m     11\u001b[0m     \u001b[0;31m# TODO: ask for player input and act accordingly\u001b[0m\u001b[0;34m\u001b[0m\u001b[0;34m\u001b[0m\u001b[0;34m\u001b[0m\u001b[0m\n\u001b[1;32m     12\u001b[0m     \u001b[0mclear_output\u001b[0m\u001b[0;34m(\u001b[0m\u001b[0;34m)\u001b[0m\u001b[0;34m\u001b[0m\u001b[0;34m\u001b[0m\u001b[0m\n",
      "\u001b[0;32m<ipython-input-3-b9831db700ab>\u001b[0m in \u001b[0;36mcheck_win\u001b[0;34m(board)\u001b[0m\n\u001b[1;32m     15\u001b[0m     \u001b[0;31m# check for sub-diagonal win\u001b[0m\u001b[0;34m\u001b[0m\u001b[0;34m\u001b[0m\u001b[0;34m\u001b[0m\u001b[0m\n\u001b[1;32m     16\u001b[0m \u001b[0;34m\u001b[0m\u001b[0m\n\u001b[0;32m---> 17\u001b[0;31m     \u001b[0;32mraise\u001b[0m \u001b[0mNotImplementedError\u001b[0m    \u001b[0;31m# delete this line to write the function\u001b[0m\u001b[0;34m\u001b[0m\u001b[0;34m\u001b[0m\u001b[0m\n\u001b[0m",
      "\u001b[0;31mNotImplementedError\u001b[0m: "
     ]
    }
   ],
   "source": [
    "# Initialize variables here\n",
    "board = np.zeros((3,3)) + sys.float_info.epsilon\n",
    "player = 0\n",
    "\n",
    "board = np.array([[1, sys.float_info.epsilon,sys.float_info.epsilon],  [1, sys.float_info.epsilon, sys.float_info.epsilon], [1, 1, 1]])\n",
    "print_board(board)\n",
    "\n",
    "counter = 0\n",
    "# Implement the logic of the gameplay\n",
    "while check_win(board) == -1 and counter < 9:    # continue playing the game as long as no one has won\n",
    "    # TODO: ask for player input and act accordingly\n",
    "    clear_output()\n",
    "    print(\"current board:\")\n",
    "    print_board(board)\n",
    "    \n",
    "# Print out the winning player\n",
    "print(\"End GAME!\")\n",
    "print_board(board)"
   ]
  },
  {
   "cell_type": "markdown",
   "metadata": {},
   "source": [
    "<h1>Possible Extension</h1><br>\n",
    "<ul>\n",
    "    <li>Implement an early end strategy. There are games in which we know in advance it will end in a draw. In those scenario, implement a strategy in which the game ends early, rather than continuing to play the game.</li>\n",
    "    <li>Implement an AI that can play this game as a computer. For a near perfect strategy, refer to the following video <a href = 'https://urldefense.com/v3/__https://youtu.be/OmC07DvEayY__;!!Mih3wA!TarAxLkizgJgcq4aGT1FT4QtIkzxXhTc_IUfoI0BoP59-mOMnJcxO-RnDlf3UZ4$ '>link</a>.</li>\n",
    "    <li>Better UI. Refer to the follwing <a href = 'https://urldefense.com/v3/__https://likegeeks.com/python-gui-examples-tkinter-tutorial/__;!!Mih3wA!TarAxLkizgJgcq4aGT1FT4QtIkzxXhTc_IUfoI0BoP59-mOMnJcxO-RnCeZb0Dc$ '>link</a> for a tutorial on Tkinter (Python's GUI Library).</li>\n",
    "</ul>"
   ]
  },
  {
   "cell_type": "code",
   "execution_count": null,
   "metadata": {
    "collapsed": true
   },
   "outputs": [],
   "source": []
  }
 ],
 "metadata": {
  "kernelspec": {
   "display_name": "Python 3",
   "language": "python",
   "name": "python3"
  },
  "language_info": {
   "codemirror_mode": {
    "name": "ipython",
    "version": 3
   },
   "file_extension": ".py",
   "mimetype": "text/x-python",
   "name": "python",
   "nbconvert_exporter": "python",
   "pygments_lexer": "ipython3",
   "version": "3.6.2"
  }
 },
 "nbformat": 4,
 "nbformat_minor": 4
}
